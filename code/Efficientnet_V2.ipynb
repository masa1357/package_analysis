{
 "cells": [
  {
   "cell_type": "markdown",
   "metadata": {},
   "source": [
    "## signate 画像分類コンペ(2クラス)"
   ]
  },
  {
   "cell_type": "code",
   "execution_count": 89,
   "metadata": {},
   "outputs": [],
   "source": [
    "# インポート\n",
    "import glob\n",
    "import random\n",
    "import pickle\n",
    "\n",
    "import tqdm\n",
    "import os\n",
    "import numpy as np\n",
    "import pandas as pd\n",
    "import pytorch_lightning as pl\n",
    "import timm\n",
    "import torch\n",
    "import torch.nn as nn\n",
    "import torch.optim as optim\n",
    "from PIL import Image\n",
    "from pytorch_lightning.callbacks import EarlyStopping, ModelCheckpoint\n",
    "from sklearn.model_selection import train_test_split\n",
    "from torch.utils.data import DataLoader, Dataset\n",
    "from torchvision import transforms\n",
    "from transformers import get_cosine_schedule_with_warmup\n",
    "from IPython.display import clear_output\n",
    "# import torchvision.models as models\n",
    "# from torchvision.models import EfficientNet_V2_L_Weights"
   ]
  },
  {
   "cell_type": "markdown",
   "metadata": {},
   "source": [
    "### 初期処理"
   ]
  },
  {
   "cell_type": "code",
   "execution_count": 90,
   "metadata": {},
   "outputs": [],
   "source": [
    "BASE_PATH = 'C:\\\\Users\\\\zigza\\\\GitFile\\\\signate\\\\package_analysis\\\\'\n",
    "DATA_PATH = BASE_PATH + 'datasets\\\\'\n",
    "TRAIN_PATH = DATA_PATH + 'train\\\\'\n",
    "TEST_PATH = DATA_PATH + 'test\\\\'\n",
    "OUT_PATH = BASE_PATH + 'out\\\\'\n",
    "# C:\\\\Users\\\\zigza\\\\GitFile\\\\signate\\\\package_analysis\\\\train.csv\n",
    "# C:\\Users\\zigza\\GitFile\\signate\\package_analysis\\datasets\\train.csv"
   ]
  },
  {
   "cell_type": "code",
   "execution_count": 91,
   "metadata": {},
   "outputs": [],
   "source": [
    "BASE_PATH = '/home/masa1357/Dockerdata/gitfile/package_analysis/'\n",
    "DATA_PATH = BASE_PATH + 'datasets/'\n",
    "TRAIN_PATH = DATA_PATH + 'train/'\n",
    "TEST_PATH = DATA_PATH + 'test/'\n",
    "OUT_PATH = BASE_PATH + 'out/'"
   ]
  },
  {
   "cell_type": "code",
   "execution_count": 92,
   "metadata": {},
   "outputs": [
    {
     "data": {
      "text/html": [
       "<div>\n",
       "<style scoped>\n",
       "    .dataframe tbody tr th:only-of-type {\n",
       "        vertical-align: middle;\n",
       "    }\n",
       "\n",
       "    .dataframe tbody tr th {\n",
       "        vertical-align: top;\n",
       "    }\n",
       "\n",
       "    .dataframe thead th {\n",
       "        text-align: right;\n",
       "    }\n",
       "</style>\n",
       "<table border=\"1\" class=\"dataframe\">\n",
       "  <thead>\n",
       "    <tr style=\"text-align: right;\">\n",
       "      <th></th>\n",
       "      <th>image_name</th>\n",
       "      <th>label</th>\n",
       "    </tr>\n",
       "  </thead>\n",
       "  <tbody>\n",
       "    <tr>\n",
       "      <th>0</th>\n",
       "      <td>0000.png</td>\n",
       "      <td>0</td>\n",
       "    </tr>\n",
       "    <tr>\n",
       "      <th>1</th>\n",
       "      <td>0001.png</td>\n",
       "      <td>1</td>\n",
       "    </tr>\n",
       "    <tr>\n",
       "      <th>2</th>\n",
       "      <td>0002.png</td>\n",
       "      <td>1</td>\n",
       "    </tr>\n",
       "    <tr>\n",
       "      <th>3</th>\n",
       "      <td>0003.png</td>\n",
       "      <td>1</td>\n",
       "    </tr>\n",
       "    <tr>\n",
       "      <th>4</th>\n",
       "      <td>0004.png</td>\n",
       "      <td>0</td>\n",
       "    </tr>\n",
       "  </tbody>\n",
       "</table>\n",
       "</div>"
      ],
      "text/plain": [
       "  image_name  label\n",
       "0   0000.png      0\n",
       "1   0001.png      1\n",
       "2   0002.png      1\n",
       "3   0003.png      1\n",
       "4   0004.png      0"
      ]
     },
     "execution_count": 92,
     "metadata": {},
     "output_type": "execute_result"
    }
   ],
   "source": [
    "train_df = pd.read_csv(DATA_PATH + 'train.csv')\n",
    "train_df.head()\n"
   ]
  },
  {
   "cell_type": "code",
   "execution_count": 93,
   "metadata": {},
   "outputs": [],
   "source": [
    "# seedの固定\n",
    "def fix_seed(seed):\n",
    "    random.seed(seed)\n",
    "    np.random.seed(seed)\n",
    "    torch.manual_seed(seed)\n",
    "    torch.cuda.manual_seed_all(seed)\n",
    "    torch.backends.cudnn.deterministic = True\n",
    "\n",
    "SEED = 0\n",
    "fix_seed(SEED)"
   ]
  },
  {
   "cell_type": "markdown",
   "metadata": {},
   "source": [
    "### Datamodule"
   ]
  },
  {
   "cell_type": "code",
   "execution_count": 94,
   "metadata": {},
   "outputs": [],
   "source": [
    "class MyDataset(Dataset):\n",
    "\n",
    "    def __init__(self, file_list, transform=None):\n",
    "        self.file_list = file_list\n",
    "        self.transform = transform\n",
    "        self.img_path = TRAIN_PATH\n",
    "\n",
    "    def __len__(self):\n",
    "        return len(self.file_list)\n",
    "\n",
    "    def __getitem__(self, index):\n",
    "        # 画像を読みこんで、指定の方法でtransform\n",
    "        img_name = os.path.join(self.img_path, self.file_list.iloc[index,0])\n",
    "        img = Image.open(img_name)\n",
    "        img_transformed = self.transform(img)\n",
    "        label = int(self.file_list.iloc[index,1])\n",
    "\n",
    "        return img_transformed, label"
   ]
  },
  {
   "cell_type": "code",
   "execution_count": 95,
   "metadata": {},
   "outputs": [],
   "source": [
    "class CreateDataModule(pl.LightningDataModule):\n",
    "\n",
    "    def __init__(self, train_df, val_df, test_df, img_size=224,\n",
    "                 mean=(0.485, 0.456, 0.406), std=(0.229, 0.224, 0.225),\n",
    "                 batch_size=16):\n",
    "        super().__init__()\n",
    "        self.train_df = train_df\n",
    "        self.val_df = val_df\n",
    "        self.test_df = test_df\n",
    "        self.batch_size = batch_size\n",
    "\n",
    "        # train時、val/test時の前処理をそれぞれ定義\n",
    "        self.train_transforms = transforms.Compose([\n",
    "            transforms.RandomResizedCrop(img_size, scale=(0.5, 1.0)),\n",
    "            transforms.RandomHorizontalFlip(),\n",
    "            transforms.ToTensor(),\n",
    "            transforms.Normalize(mean, std)\n",
    "        ])\n",
    "\n",
    "        self.val_test_transforms = transforms.Compose([\n",
    "            transforms.Resize(img_size),\n",
    "            transforms.CenterCrop(img_size),\n",
    "            transforms.ToTensor(),\n",
    "            transforms.Normalize(mean, std)\n",
    "        ])\n",
    "\n",
    "    # データのダウンロードなどを行う場合は定義、今回は不要\n",
    "    def prepare_data(self):\n",
    "        pass\n",
    "\n",
    "    # Trainer.fit()ではtrain/valのDatasetを、Trainer.test()ではtestのDatasetを生成\n",
    "    def setup(self, stage=None):\n",
    "        if stage == 'fit' or stage is None:\n",
    "            self.train_dataset = MyDataset(self.train_df, self.train_transforms)\n",
    "            self.val_dataset = MyDataset(self.val_df, self.val_test_transforms)\n",
    "\n",
    "        if stage == 'test' or stage is None:\n",
    "            self.test_dataset = MyDataset(self.test_df, self.val_test_transforms)\n",
    "\n",
    "    # こちらもTrainer.fit()ではtrain/valのDataLoaderを、Trainer.test()ではtestのDataLoaderを生成\n",
    "    # trainはshuffleあり、val/testはshuffleなし\n",
    "    def train_dataloader(self):\n",
    "        return DataLoader(self.train_dataset, batch_size=self.batch_size, shuffle=True)\n",
    "\n",
    "    def val_dataloader(self):\n",
    "        return DataLoader(self.val_dataset, batch_size=self.batch_size)\n",
    "\n",
    "    def test_dataloader(self):\n",
    "        return DataLoader(self.test_dataset, batch_size=self.batch_size)\n"
   ]
  },
  {
   "cell_type": "code",
   "execution_count": 96,
   "metadata": {},
   "outputs": [],
   "source": [
    "# seedを固定\n",
    "fix_seed(SEED)\n",
    "\n",
    "#train_df内のデータを7:2:1の割合でval_df,test_dfに分割\n",
    "train_df, val_df = train_test_split(train_df, test_size=0.3, shuffle=True, random_state=SEED)\n",
    "val_df, test_df = train_test_split(val_df, test_size=0.33, shuffle=True, random_state=SEED)\n",
    "\n",
    "# インスタンスを作成\n",
    "data_module = CreateDataModule(train_df,val_df,test_df)"
   ]
  },
  {
   "cell_type": "markdown",
   "metadata": {},
   "source": [
    "### Classifier"
   ]
  },
  {
   "cell_type": "code",
   "execution_count": 102,
   "metadata": {},
   "outputs": [],
   "source": [
    "class ImageClassifier(pl.LightningModule):\n",
    "    def __init__(self, model_name, n_classes, lr=0.0001, criterion=torch.nn.CrossEntropyLoss()):\n",
    "        super().__init__()\n",
    "        self.save_hyperparameters()\n",
    "\n",
    "        # timmで学習済みモデルをダウンロードし、classifier部分を付替え\n",
    "        # n_classesにはラベルの件数を渡す（今回はアリとハチの2つなので2）\n",
    "        self.model = timm.create_model(model_name, pretrained=False)\n",
    "        #self.model = models.efficientnet_v2_l(weights=EfficientNet_V2_L_Weights.ImageNet1K_V1, progress=True)\n",
    "        #self.model = models.efficientnet_v2_l(weights=EfficientNet_V2_L_Weights.IMAGENET1K_V1)\n",
    "        self.model.classifier = nn.Linear(self.model.conv_head.out_channels, n_classes)\n",
    "\n",
    "        self.lr = lr\n",
    "        self.criterion = criterion\n",
    "        self.outputs = []\n",
    "\n",
    "    # 順伝搬\n",
    "    def forward(self, imgs, labels=None):\n",
    "        preds = self.model(imgs)\n",
    "        loss = 0\n",
    "        if labels is not None:\n",
    "            loss = self.criterion(preds, labels)\n",
    "        return loss, preds\n",
    "\n",
    "    # trainのミニバッチに対して行う処理\n",
    "    def training_step(self, batch, batch_idx):\n",
    "        imgs, labels = batch\n",
    "        loss, preds = self.forward(imgs=imgs, labels=labels)\n",
    "        return {'loss': loss, 'batch_preds': preds.detach(), 'batch_labels': labels.detach()}\n",
    "\n",
    "    # validation、testでもtrain_stepと同じ処理を行う\n",
    "    def validation_step(self, batch, batch_idx):\n",
    "        result = self.training_step(batch, batch_idx)\n",
    "        self.outputs.append(result)\n",
    "        return result\n",
    "\n",
    "    def test_step(self, batch, batch_idx):\n",
    "        result = self.training_step(batch, batch_idx)\n",
    "        self.outputs.append(result)\n",
    "        return result\n",
    "\n",
    "    # epoch終了時にvalidationのlossとaccuracyを記録\n",
    "    def on_validation_epoch_end(self):\n",
    "\n",
    "        # loss計算\n",
    "        epoch_preds = torch.cat([x['batch_preds'] for x in self.outputs])\n",
    "        epoch_labels = torch.cat([x['batch_labels'] for x in self.outputs])\n",
    "        epoch_loss = self.criterion(epoch_preds, epoch_labels)\n",
    "        self.log(f\"val_loss\", epoch_loss, logger=True)\n",
    "\n",
    "        # accuracy計算\n",
    "        num_correct = (epoch_preds.argmax(dim=1) == epoch_labels).sum().item()\n",
    "        epoch_accuracy = num_correct / len(epoch_labels)\n",
    "        self.log(f\"val_accuracy\", epoch_accuracy, logger=True)\n",
    "        self.outputs = []\n",
    "\n",
    "\n",
    "    def on_test_epoch_end(self):\n",
    "        ret = self.on_validation_epoch_end()\n",
    "        return ret\n",
    "\n",
    "    def configure_optimizers(self):\n",
    "        optimizer = optim.AdamW(lr=self.lr, params=self.model.parameters())\n",
    "        \n",
    "        # schedulerの設定（どっちか）\n",
    "        #scheduler = {'scheduler': optim.lr_scheduler.StepLR(optimizer, step_size=5, gamma=0.2)}\n",
    "        warmup_steps = int(0.1 * self.trainer.max_steps)  # warmupのステップ数を全ステップの10%に設定\n",
    "        scheduler = {\n",
    "            'scheduler': get_cosine_schedule_with_warmup(optimizer, num_warmup_steps=warmup_steps, num_training_steps=self.trainer.max_steps),\n",
    "            'interval': 'step',\n",
    "            'frequency': 1\n",
    "        }\n",
    "\n"
   ]
  },
  {
   "cell_type": "markdown",
   "metadata": {},
   "source": [
    "### Train/Validation"
   ]
  },
  {
   "cell_type": "code",
   "execution_count": 103,
   "metadata": {},
   "outputs": [],
   "source": [
    "# モデルインスタンスの作成\n",
    "model = ImageClassifier(model_name=\"efficientnetv2_s\", n_classes=2)"
   ]
  },
  {
   "cell_type": "code",
   "execution_count": 104,
   "metadata": {},
   "outputs": [
    {
     "name": "stderr",
     "output_type": "stream",
     "text": [
      "GPU available: True (cuda), used: True\n",
      "TPU available: False, using: 0 TPU cores\n",
      "IPU available: False, using: 0 IPUs\n",
      "HPU available: False, using: 0 HPUs\n"
     ]
    }
   ],
   "source": [
    "# EarlyStoppingの設定\n",
    "# 3epochで'val_loss'が0.05以上減少しなければ学習をストップ\n",
    "early_stop_callback = EarlyStopping(\n",
    "    monitor='val_loss', min_delta=0.05, patience=3, mode='min')\n",
    "\n",
    "# モデルの保存先\n",
    "# epoch数に応じて、「epoch=0.ckpt」のような形で保存\n",
    "checkpoint_callback = ModelCheckpoint(\n",
    "    dirpath=OUT_PATH + 'model_checkpoints/',\n",
    "    filename='{epoch}', monitor='val_loss', mode='min', verbose=True)\n",
    "\n",
    "# trainerの設定\n",
    "trainer = pl.Trainer(max_epochs=10,\n",
    "                     devices=1,\n",
    "                     callbacks=[checkpoint_callback, early_stop_callback],\n",
    "                     log_every_n_steps=10)\n"
   ]
  },
  {
   "cell_type": "code",
   "execution_count": 105,
   "metadata": {},
   "outputs": [
    {
     "name": "stderr",
     "output_type": "stream",
     "text": [
      "LOCAL_RANK: 0 - CUDA_VISIBLE_DEVICES: [0,1]\n",
      "\n",
      "  | Name      | Type             | Params\n",
      "-----------------------------------------------\n",
      "0 | model     | EfficientNet     | 20.2 M\n",
      "1 | criterion | CrossEntropyLoss | 0     \n",
      "-----------------------------------------------\n",
      "20.2 M    Trainable params\n",
      "0         Non-trainable params\n",
      "20.2 M    Total params\n",
      "80.720    Total estimated model params size (MB)\n"
     ]
    },
    {
     "data": {
      "application/vnd.jupyter.widget-view+json": {
       "model_id": "c1e9c694b6d34d8e8f30a5f75b15598d",
       "version_major": 2,
       "version_minor": 0
      },
      "text/plain": [
       "Sanity Checking: 0it [00:00, ?it/s]"
      ]
     },
     "metadata": {},
     "output_type": "display_data"
    },
    {
     "data": {
      "application/vnd.jupyter.widget-view+json": {
       "model_id": "27e6e240e72a480d9dd66e15866ce3fb",
       "version_major": 2,
       "version_minor": 0
      },
      "text/plain": [
       "Training: 0it [00:00, ?it/s]"
      ]
     },
     "metadata": {},
     "output_type": "display_data"
    },
    {
     "data": {
      "application/vnd.jupyter.widget-view+json": {
       "model_id": "7295954319e641a694403288e47255ff",
       "version_major": 2,
       "version_minor": 0
      },
      "text/plain": [
       "Validation: 0it [00:00, ?it/s]"
      ]
     },
     "metadata": {},
     "output_type": "display_data"
    },
    {
     "name": "stderr",
     "output_type": "stream",
     "text": [
      "Epoch 0, global step 96: 'val_loss' reached 0.72588 (best 0.72588), saving model to '/home/masa1357/Dockerdata/gitfile/package_analysis/out/model_checkpoints/epoch=0-v1.ckpt' as top 1\n"
     ]
    },
    {
     "data": {
      "application/vnd.jupyter.widget-view+json": {
       "model_id": "425792691b044336a46d4f0922891933",
       "version_major": 2,
       "version_minor": 0
      },
      "text/plain": [
       "Validation: 0it [00:00, ?it/s]"
      ]
     },
     "metadata": {},
     "output_type": "display_data"
    },
    {
     "name": "stderr",
     "output_type": "stream",
     "text": [
      "Epoch 1, global step 192: 'val_loss' was not in top 1\n"
     ]
    },
    {
     "data": {
      "application/vnd.jupyter.widget-view+json": {
       "model_id": "724de91a95d94725ba53e8347454c9c3",
       "version_major": 2,
       "version_minor": 0
      },
      "text/plain": [
       "Validation: 0it [00:00, ?it/s]"
      ]
     },
     "metadata": {},
     "output_type": "display_data"
    },
    {
     "name": "stderr",
     "output_type": "stream",
     "text": [
      "Epoch 2, global step 288: 'val_loss' was not in top 1\n"
     ]
    },
    {
     "data": {
      "application/vnd.jupyter.widget-view+json": {
       "model_id": "0c7d529aed154f84b49f27209253e5a3",
       "version_major": 2,
       "version_minor": 0
      },
      "text/plain": [
       "Validation: 0it [00:00, ?it/s]"
      ]
     },
     "metadata": {},
     "output_type": "display_data"
    },
    {
     "name": "stderr",
     "output_type": "stream",
     "text": [
      "Epoch 3, global step 384: 'val_loss' was not in top 1\n"
     ]
    }
   ],
   "source": [
    "# gpuを設定\n",
    "device = torch.device(\"cuda\" if torch.cuda.is_available() else \"cpu\")\n",
    "\n",
    "# 訓練開始\n",
    "data_module.setup('fit')\n",
    "trainer.fit(model, data_module)"
   ]
  },
  {
   "cell_type": "code",
   "execution_count": 106,
   "metadata": {},
   "outputs": [
    {
     "name": "stderr",
     "output_type": "stream",
     "text": [
      "Restoring states from the checkpoint path at /home/masa1357/Dockerdata/gitfile/package_analysis/out/model_checkpoints/epoch=0-v1.ckpt\n",
      "LOCAL_RANK: 0 - CUDA_VISIBLE_DEVICES: [0,1]\n",
      "Loaded model weights from the checkpoint at /home/masa1357/Dockerdata/gitfile/package_analysis/out/model_checkpoints/epoch=0-v1.ckpt\n"
     ]
    },
    {
     "data": {
      "application/vnd.jupyter.widget-view+json": {
       "model_id": "57a1e7d3d6ea499a90bd51c5b7a05f96",
       "version_major": 2,
       "version_minor": 0
      },
      "text/plain": [
       "Testing: 0it [00:00, ?it/s]"
      ]
     },
     "metadata": {},
     "output_type": "display_data"
    },
    {
     "name": "stdout",
     "output_type": "stream",
     "text": [
      "────────────────────────────────────────────────────────────────────────────────────────────────────────────────────────\n",
      "       Test metric             DataLoader 0\n",
      "────────────────────────────────────────────────────────────────────────────────────────────────────────────────────────\n",
      "      val_accuracy          0.49074074625968933\n",
      "        val_loss            0.7408518195152283\n",
      "────────────────────────────────────────────────────────────────────────────────────────────────────────────────────────\n"
     ]
    },
    {
     "data": {
      "text/plain": [
       "[{'val_loss': 0.7408518195152283, 'val_accuracy': 0.49074074625968933}]"
      ]
     },
     "execution_count": 106,
     "metadata": {},
     "output_type": "execute_result"
    }
   ],
   "source": [
    "# 精度検証\n",
    "data_module = CreateDataModule(train_df,val_df,test_df)\n",
    "data_module.setup('test')\n",
    "result = trainer.test(datamodule=data_module,ckpt_path=checkpoint_callback.best_model_path)\n",
    "result"
   ]
  },
  {
   "cell_type": "code",
   "execution_count": 107,
   "metadata": {},
   "outputs": [
    {
     "data": {
      "text/html": [
       "\n",
       "      <iframe id=\"tensorboard-frame-629f6fbed82c07cd\" width=\"100%\" height=\"800\" frameborder=\"0\">\n",
       "      </iframe>\n",
       "      <script>\n",
       "        (function() {\n",
       "          const frame = document.getElementById(\"tensorboard-frame-629f6fbed82c07cd\");\n",
       "          const url = new URL(\"/\", window.location);\n",
       "          const port = 6006;\n",
       "          if (port) {\n",
       "            url.port = port;\n",
       "          }\n",
       "          frame.src = url;\n",
       "        })();\n",
       "      </script>\n",
       "    "
      ],
      "text/plain": [
       "<IPython.core.display.HTML object>"
      ]
     },
     "metadata": {},
     "output_type": "display_data"
    }
   ],
   "source": [
    "# tensorboardでの確認\n",
    "%load_ext tensorboard\n",
    "#%tensorboard --logdir C:/Users/zigza/GitFile/signate/package_analysis/code/lightning_logs\n",
    "%tensorboard --logdir /home/masa1357/Dockerdata/gitfile/package_analysis/code/lightning_logs"
   ]
  },
  {
   "cell_type": "code",
   "execution_count": null,
   "metadata": {},
   "outputs": [],
   "source": [
    "# 最良モデルの保存\n",
    "best_model = ImageClassifier.load_from_checkpoint(checkpoint_callback.best_model_path)\n",
    "\n",
    "with open('./best_model.pkl', mode='wb') as fp:\n",
    "    pickle.dump(best_model, fp)"
   ]
  }
 ],
 "metadata": {
  "kernelspec": {
   "display_name": "Python 3 (ipykernel)",
   "language": "python",
   "name": "python3"
  },
  "language_info": {
   "codemirror_mode": {
    "name": "ipython",
    "version": 3
   },
   "file_extension": ".py",
   "mimetype": "text/x-python",
   "name": "python",
   "nbconvert_exporter": "python",
   "pygments_lexer": "ipython3",
   "version": "3.10.12"
  },
  "orig_nbformat": 4
 },
 "nbformat": 4,
 "nbformat_minor": 2
}
